{
 "cells": [
  {
   "cell_type": "markdown",
   "metadata": {},
   "source": [
    "This project aims to detect Pnemonia in patients through their chest X-Rays. The dataset for this project can be downloaded from: https://data.mendeley.com/datasets/rscbjbr9sj/2\n"
   ]
  },
  {
   "cell_type": "code",
   "execution_count": 1,
   "metadata": {},
   "outputs": [],
   "source": [
    "# Magics\n",
    "%reload_ext autoreload\n",
    "%autoreload 2\n",
    "%matplotlib inline"
   ]
  },
  {
   "cell_type": "code",
   "execution_count": 2,
   "metadata": {},
   "outputs": [
    {
     "name": "stderr",
     "output_type": "stream",
     "text": [
      "/home/paperspace/anaconda3/envs/fastai/lib/python3.6/importlib/_bootstrap.py:219: RuntimeWarning: numpy.dtype size changed, may indicate binary incompatibility. Expected 96, got 88\n",
      "  return f(*args, **kwds)\n",
      "/home/paperspace/anaconda3/envs/fastai/lib/python3.6/importlib/_bootstrap.py:219: RuntimeWarning: numpy.dtype size changed, may indicate binary incompatibility. Expected 96, got 88\n",
      "  return f(*args, **kwds)\n",
      "/home/paperspace/anaconda3/envs/fastai/lib/python3.6/site-packages/sklearn/ensemble/weight_boosting.py:29: DeprecationWarning: numpy.core.umath_tests is an internal NumPy module and should not be imported. It will be removed in a future NumPy release.\n",
      "  from numpy.core.umath_tests import inner1d\n"
     ]
    }
   ],
   "source": [
    "# Import required libraries\n",
    "from fastai.imports import *\n",
    "from fastai.conv_learner import *\n",
    "from fastai.plots import *\n",
    "from fastai.sgdr import *\n",
    "from fastai.transforms import *"
   ]
  },
  {
   "cell_type": "code",
   "execution_count": 3,
   "metadata": {},
   "outputs": [],
   "source": [
    "# Describe the file path and batch size of images we will work with\n",
    "PATH = 'data/chest-xray-pnemonia/chest_xray/'\n",
    "bs = 64"
   ]
  },
  {
   "cell_type": "markdown",
   "metadata": {},
   "source": [
    "### Data Visualization"
   ]
  },
  {
   "cell_type": "code",
   "execution_count": 4,
   "metadata": {},
   "outputs": [
    {
     "name": "stdout",
     "output_type": "stream",
     "text": [
      "models\ttest  tmp  train  val\r\n"
     ]
    }
   ],
   "source": [
    "!ls {PATH}"
   ]
  },
  {
   "cell_type": "code",
   "execution_count": 5,
   "metadata": {},
   "outputs": [
    {
     "name": "stdout",
     "output_type": "stream",
     "text": [
      "person1946_bacteria_4874.jpeg  person1950_bacteria_4881.jpeg\r\n",
      "person1946_bacteria_4875.jpeg  person1951_bacteria_4882.jpeg\r\n",
      "person1947_bacteria_4876.jpeg  person1952_bacteria_4883.jpeg\r\n",
      "person1949_bacteria_4880.jpeg  person1954_bacteria_4886.jpeg\r\n"
     ]
    }
   ],
   "source": [
    "!ls '{PATH}val/PNEUMONIA'"
   ]
  },
  {
   "cell_type": "code",
   "execution_count": 6,
   "metadata": {
    "collapsed": true
   },
   "outputs": [
    {
     "name": "stdout",
     "output_type": "stream",
     "text": [
      "IM-0115-0001.jpeg\t\tNORMAL2-IM-0478-0001.jpeg\r\n",
      "IM-0117-0001.jpeg\t\tNORMAL2-IM-0479-0001.jpeg\r\n",
      "IM-0119-0001.jpeg\t\tNORMAL2-IM-0480-0001.jpeg\r\n",
      "IM-0122-0001.jpeg\t\tNORMAL2-IM-0481-0001.jpeg\r\n",
      "IM-0125-0001.jpeg\t\tNORMAL2-IM-0482-0001.jpeg\r\n",
      "IM-0127-0001.jpeg\t\tNORMAL2-IM-0485-0001.jpeg\r\n",
      "IM-0128-0001.jpeg\t\tNORMAL2-IM-0486-0001.jpeg\r\n",
      "IM-0129-0001.jpeg\t\tNORMAL2-IM-0487-0001.jpeg\r\n",
      "IM-0131-0001.jpeg\t\tNORMAL2-IM-0488-0001.jpeg\r\n",
      "IM-0133-0001.jpeg\t\tNORMAL2-IM-0489-0001.jpeg\r\n",
      "IM-0135-0001.jpeg\t\tNORMAL2-IM-0490-0001.jpeg\r\n",
      "IM-0137-0001.jpeg\t\tNORMAL2-IM-0491-0001.jpeg\r\n",
      "IM-0140-0001.jpeg\t\tNORMAL2-IM-0493-0001.jpeg\r\n",
      "IM-0141-0001.jpeg\t\tNORMAL2-IM-0496-0001.jpeg\r\n",
      "IM-0143-0001.jpeg\t\tNORMAL2-IM-0497-0001.jpeg\r\n",
      "IM-0145-0001.jpeg\t\tNORMAL2-IM-0499-0001.jpeg\r\n",
      "IM-0147-0001.jpeg\t\tNORMAL2-IM-0500-0001.jpeg\r\n",
      "IM-0149-0001.jpeg\t\tNORMAL2-IM-0501-0001.jpeg\r\n",
      "IM-0151-0001.jpeg\t\tNORMAL2-IM-0502-0001.jpeg\r\n",
      "IM-0152-0001.jpeg\t\tNORMAL2-IM-0503-0001.jpeg\r\n",
      "IM-0154-0001.jpeg\t\tNORMAL2-IM-0506-0001.jpeg\r\n",
      "IM-0156-0001.jpeg\t\tNORMAL2-IM-0507-0001.jpeg\r\n",
      "IM-0158-0001.jpeg\t\tNORMAL2-IM-0508-0001.jpeg\r\n",
      "IM-0160-0001.jpeg\t\tNORMAL2-IM-0509-0001.jpeg\r\n",
      "IM-0162-0001.jpeg\t\tNORMAL2-IM-0511-0001.jpeg\r\n",
      "IM-0164-0001.jpeg\t\tNORMAL2-IM-0512-0001.jpeg\r\n",
      "IM-0166-0001.jpeg\t\tNORMAL2-IM-0513-0001.jpeg\r\n",
      "IM-0168-0001.jpeg\t\tNORMAL2-IM-0515-0001.jpeg\r\n",
      "IM-0170-0001.jpeg\t\tNORMAL2-IM-0516-0001.jpeg\r\n",
      "IM-0172-0001.jpeg\t\tNORMAL2-IM-0517-0001.jpeg\r\n",
      "IM-0176-0001.jpeg\t\tNORMAL2-IM-0518-0001.jpeg\r\n",
      "IM-0177-0001.jpeg\t\tNORMAL2-IM-0520-0001.jpeg\r\n",
      "IM-0178-0001.jpeg\t\tNORMAL2-IM-0521-0001.jpeg\r\n",
      "IM-0180-0001.jpeg\t\tNORMAL2-IM-0522-0001.jpeg\r\n",
      "IM-0182-0001.jpeg\t\tNORMAL2-IM-0523-0001.jpeg\r\n",
      "IM-0183-0001.jpeg\t\tNORMAL2-IM-0525-0001.jpeg\r\n",
      "IM-0185-0001.jpeg\t\tNORMAL2-IM-0526-0001.jpeg\r\n",
      "IM-0187-0001.jpeg\t\tNORMAL2-IM-0528-0001.jpeg\r\n",
      "IM-0189-0001.jpeg\t\tNORMAL2-IM-0529-0001.jpeg\r\n",
      "IM-0191-0001.jpeg\t\tNORMAL2-IM-0530-0001.jpeg\r\n",
      "IM-0193-0001.jpeg\t\tNORMAL2-IM-0531-0001.jpeg\r\n",
      "IM-0195-0001.jpeg\t\tNORMAL2-IM-0533-0001.jpeg\r\n",
      "IM-0199-0001.jpeg\t\tNORMAL2-IM-0535-0001-0002.jpeg\r\n",
      "IM-0201-0001.jpeg\t\tNORMAL2-IM-0535-0001.jpeg\r\n",
      "IM-0203-0001.jpeg\t\tNORMAL2-IM-0536-0001.jpeg\r\n",
      "IM-0205-0001.jpeg\t\tNORMAL2-IM-0537-0001.jpeg\r\n",
      "IM-0206-0001.jpeg\t\tNORMAL2-IM-0539-0001.jpeg\r\n",
      "IM-0207-0001.jpeg\t\tNORMAL2-IM-0540-0001.jpeg\r\n",
      "IM-0209-0001.jpeg\t\tNORMAL2-IM-0541-0001.jpeg\r\n",
      "IM-0210-0001.jpeg\t\tNORMAL2-IM-0543-0001.jpeg\r\n",
      "IM-0211-0001.jpeg\t\tNORMAL2-IM-0545-0001.jpeg\r\n",
      "IM-0213-0001.jpeg\t\tNORMAL2-IM-0547-0001.jpeg\r\n",
      "IM-0214-0001.jpeg\t\tNORMAL2-IM-0550-0001.jpeg\r\n",
      "IM-0215-0001.jpeg\t\tNORMAL2-IM-0551-0001.jpeg\r\n",
      "IM-0216-0001.jpeg\t\tNORMAL2-IM-0552-0001.jpeg\r\n",
      "IM-0217-0001.jpeg\t\tNORMAL2-IM-0553-0001.jpeg\r\n",
      "IM-0218-0001.jpeg\t\tNORMAL2-IM-0554-0001.jpeg\r\n",
      "IM-0219-0001.jpeg\t\tNORMAL2-IM-0555-0001-0001.jpeg\r\n",
      "IM-0220-0001.jpeg\t\tNORMAL2-IM-0555-0001-0002.jpeg\r\n",
      "IM-0221-0001.jpeg\t\tNORMAL2-IM-0555-0001.jpeg\r\n",
      "IM-0222-0001.jpeg\t\tNORMAL2-IM-0557-0001.jpeg\r\n",
      "IM-0223-0001.jpeg\t\tNORMAL2-IM-0558-0001.jpeg\r\n",
      "IM-0224-0001.jpeg\t\tNORMAL2-IM-0559-0001.jpeg\r\n",
      "IM-0225-0001.jpeg\t\tNORMAL2-IM-0561-0001.jpeg\r\n",
      "IM-0226-0001.jpeg\t\tNORMAL2-IM-0563-0001.jpeg\r\n",
      "IM-0227-0001.jpeg\t\tNORMAL2-IM-0564-0001.jpeg\r\n",
      "IM-0228-0001.jpeg\t\tNORMAL2-IM-0566-0001.jpeg\r\n",
      "IM-0229-0001.jpeg\t\tNORMAL2-IM-0567-0001.jpeg\r\n",
      "IM-0230-0001.jpeg\t\tNORMAL2-IM-0568-0001.jpeg\r\n",
      "IM-0231-0001.jpeg\t\tNORMAL2-IM-0569-0001.jpeg\r\n",
      "IM-0234-0001.jpeg\t\tNORMAL2-IM-0571-0001.jpeg\r\n",
      "IM-0235-0001.jpeg\t\tNORMAL2-IM-0572-0001.jpeg\r\n",
      "IM-0236-0001.jpeg\t\tNORMAL2-IM-0573-0001.jpeg\r\n",
      "IM-0237-0001.jpeg\t\tNORMAL2-IM-0575-0001.jpeg\r\n",
      "IM-0238-0001.jpeg\t\tNORMAL2-IM-0576-0001.jpeg\r\n",
      "IM-0239-0001.jpeg\t\tNORMAL2-IM-0577-0001.jpeg\r\n",
      "IM-0240-0001.jpeg\t\tNORMAL2-IM-0578-0001.jpeg\r\n",
      "IM-0241-0001.jpeg\t\tNORMAL2-IM-0579-0001.jpeg\r\n",
      "IM-0242-0001.jpeg\t\tNORMAL2-IM-0580-0001.jpeg\r\n",
      "IM-0243-0001.jpeg\t\tNORMAL2-IM-0582-0001.jpeg\r\n",
      "IM-0244-0001.jpeg\t\tNORMAL2-IM-0583-0001.jpeg\r\n",
      "IM-0245-0001.jpeg\t\tNORMAL2-IM-0585-0001.jpeg\r\n",
      "IM-0248-0001.jpeg\t\tNORMAL2-IM-0587-0001-0001.jpeg\r\n",
      "IM-0249-0001.jpeg\t\tNORMAL2-IM-0587-0001-0002.jpeg\r\n",
      "IM-0250-0001.jpeg\t\tNORMAL2-IM-0587-0001.jpeg\r\n",
      "IM-0251-0001.jpeg\t\tNORMAL2-IM-0588-0001.jpeg\r\n",
      "IM-0253-0001.jpeg\t\tNORMAL2-IM-0589-0001.jpeg\r\n",
      "IM-0255-0001.jpeg\t\tNORMAL2-IM-0592-0001.jpeg\r\n",
      "IM-0256-0001.jpeg\t\tNORMAL2-IM-0594-0001.jpeg\r\n",
      "IM-0257-0001.jpeg\t\tNORMAL2-IM-0595-0001.jpeg\r\n",
      "IM-0261-0001.jpeg\t\tNORMAL2-IM-0596-0001.jpeg\r\n",
      "IM-0262-0001.jpeg\t\tNORMAL2-IM-0599-0001.jpeg\r\n",
      "IM-0264-0001.jpeg\t\tNORMAL2-IM-0600-0001.jpeg\r\n",
      "IM-0265-0001.jpeg\t\tNORMAL2-IM-0601-0001.jpeg\r\n",
      "IM-0266-0001.jpeg\t\tNORMAL2-IM-0602-0001.jpeg\r\n",
      "IM-0268-0001.jpeg\t\tNORMAL2-IM-0603-0001.jpeg\r\n",
      "IM-0269-0001.jpeg\t\tNORMAL2-IM-0604-0001.jpeg\r\n",
      "IM-0270-0001.jpeg\t\tNORMAL2-IM-0609-0001.jpeg\r\n",
      "IM-0272-0001.jpeg\t\tNORMAL2-IM-0611-0001.jpeg\r\n",
      "IM-0273-0001.jpeg\t\tNORMAL2-IM-0616-0001.jpeg\r\n",
      "IM-0274-0001.jpeg\t\tNORMAL2-IM-0617-0001.jpeg\r\n",
      "IM-0275-0001.jpeg\t\tNORMAL2-IM-0618-0001.jpeg\r\n",
      "IM-0276-0001.jpeg\t\tNORMAL2-IM-0619-0001.jpeg\r\n",
      "IM-0277-0001.jpeg\t\tNORMAL2-IM-0620-0001.jpeg\r\n",
      "IM-0278-0001.jpeg\t\tNORMAL2-IM-0621-0001.jpeg\r\n",
      "IM-0279-0001.jpeg\t\tNORMAL2-IM-0622-0001.jpeg\r\n",
      "IM-0280-0001.jpeg\t\tNORMAL2-IM-0623-0001.jpeg\r\n",
      "IM-0282-0001.jpeg\t\tNORMAL2-IM-0626-0001.jpeg\r\n",
      "IM-0283-0001.jpeg\t\tNORMAL2-IM-0627-0001.jpeg\r\n",
      "IM-0285-0001.jpeg\t\tNORMAL2-IM-0629-0001.jpeg\r\n",
      "IM-0286-0001.jpeg\t\tNORMAL2-IM-0630-0001.jpeg\r\n",
      "IM-0288-0001.jpeg\t\tNORMAL2-IM-0633-0001.jpeg\r\n",
      "IM-0289-0001.jpeg\t\tNORMAL2-IM-0634-0001.jpeg\r\n",
      "IM-0290-0001.jpeg\t\tNORMAL2-IM-0635-0001.jpeg\r\n",
      "IM-0291-0001.jpeg\t\tNORMAL2-IM-0636-0001.jpeg\r\n",
      "IM-0292-0001.jpeg\t\tNORMAL2-IM-0637-0001.jpeg\r\n",
      "IM-0293-0001.jpeg\t\tNORMAL2-IM-0640-0001.jpeg\r\n",
      "IM-0294-0001.jpeg\t\tNORMAL2-IM-0641-0001.jpeg\r\n",
      "IM-0295-0001.jpeg\t\tNORMAL2-IM-0642-0001.jpeg\r\n",
      "IM-0297-0001.jpeg\t\tNORMAL2-IM-0643-0001.jpeg\r\n",
      "IM-0298-0001.jpeg\t\tNORMAL2-IM-0645-0001.jpeg\r\n",
      "IM-0299-0001.jpeg\t\tNORMAL2-IM-0647-0001.jpeg\r\n",
      "IM-0300-0001.jpeg\t\tNORMAL2-IM-0648-0001.jpeg\r\n",
      "IM-0301-0001.jpeg\t\tNORMAL2-IM-0649-0001.jpeg\r\n",
      "IM-0302-0001.jpeg\t\tNORMAL2-IM-0650-0001.jpeg\r\n",
      "IM-0303-0001.jpeg\t\tNORMAL2-IM-0651-0001.jpeg\r\n",
      "IM-0304-0001.jpeg\t\tNORMAL2-IM-0651-0004.jpeg\r\n",
      "IM-0305-0001.jpeg\t\tNORMAL2-IM-0652-0001.jpeg\r\n",
      "IM-0306-0001.jpeg\t\tNORMAL2-IM-0653-0001.jpeg\r\n",
      "IM-0307-0001.jpeg\t\tNORMAL2-IM-0654-0001.jpeg\r\n",
      "IM-0308-0001.jpeg\t\tNORMAL2-IM-0655-0001.jpeg\r\n",
      "IM-0309-0001.jpeg\t\tNORMAL2-IM-0657-0001.jpeg\r\n",
      "IM-0311-0001.jpeg\t\tNORMAL2-IM-0659-0001.jpeg\r\n",
      "IM-0312-0001.jpeg\t\tNORMAL2-IM-0660-0001.jpeg\r\n",
      "IM-0313-0001.jpeg\t\tNORMAL2-IM-0661-0001.jpeg\r\n",
      "IM-0314-0001.jpeg\t\tNORMAL2-IM-0662-0001.jpeg\r\n",
      "IM-0315-0001.jpeg\t\tNORMAL2-IM-0663-0001.jpeg\r\n",
      "IM-0316-0001.jpeg\t\tNORMAL2-IM-0664-0001.jpeg\r\n",
      "IM-0317-0001.jpeg\t\tNORMAL2-IM-0665-0001.jpeg\r\n",
      "IM-0318-0001.jpeg\t\tNORMAL2-IM-0666-0001.jpeg\r\n",
      "IM-0319-0001.jpeg\t\tNORMAL2-IM-0667-0001.jpeg\r\n",
      "IM-0320-0001.jpeg\t\tNORMAL2-IM-0668-0001.jpeg\r\n",
      "IM-0323-0001.jpeg\t\tNORMAL2-IM-0669-0001.jpeg\r\n",
      "IM-0324-0001.jpeg\t\tNORMAL2-IM-0671-0001.jpeg\r\n",
      "IM-0325-0001.jpeg\t\tNORMAL2-IM-0672-0001.jpeg\r\n",
      "IM-0326-0001.jpeg\t\tNORMAL2-IM-0673-0001.jpeg\r\n",
      "IM-0327-0001.jpeg\t\tNORMAL2-IM-0675-0001.jpeg\r\n",
      "IM-0329-0001.jpeg\t\tNORMAL2-IM-0678-0001.jpeg\r\n",
      "IM-0330-0001.jpeg\t\tNORMAL2-IM-0680-0001.jpeg\r\n",
      "IM-0331-0001.jpeg\t\tNORMAL2-IM-0682-0001.jpeg\r\n",
      "IM-0332-0001.jpeg\t\tNORMAL2-IM-0683-0001.jpeg\r\n",
      "IM-0333-0001.jpeg\t\tNORMAL2-IM-0684-0001-0001.jpeg\r\n",
      "IM-0335-0001.jpeg\t\tNORMAL2-IM-0686-0001.jpeg\r\n",
      "IM-0337-0001.jpeg\t\tNORMAL2-IM-0687-0001.jpeg\r\n",
      "IM-0338-0001.jpeg\t\tNORMAL2-IM-0689-0001.jpeg\r\n",
      "IM-0339-0001.jpeg\t\tNORMAL2-IM-0690-0001.jpeg\r\n",
      "IM-0340-0001.jpeg\t\tNORMAL2-IM-0692-0001.jpeg\r\n",
      "IM-0341-0001.jpeg\t\tNORMAL2-IM-0693-0001.jpeg\r\n",
      "IM-0343-0001.jpeg\t\tNORMAL2-IM-0694-0001.jpeg\r\n",
      "IM-0345-0001.jpeg\t\tNORMAL2-IM-0695-0001.jpeg\r\n",
      "IM-0346-0001.jpeg\t\tNORMAL2-IM-0696-0001.jpeg\r\n",
      "IM-0347-0001.jpeg\t\tNORMAL2-IM-0698-0001.jpeg\r\n",
      "IM-0348-0001.jpeg\t\tNORMAL2-IM-0699-0001.jpeg\r\n",
      "IM-0349-0001.jpeg\t\tNORMAL2-IM-0700-0001.jpeg\r\n",
      "IM-0350-0001.jpeg\t\tNORMAL2-IM-0702-0001.jpeg\r\n",
      "IM-0351-0001.jpeg\t\tNORMAL2-IM-0705-0001.jpeg\r\n",
      "IM-0353-0001.jpeg\t\tNORMAL2-IM-0707-0001.jpeg\r\n",
      "IM-0354-0001.jpeg\t\tNORMAL2-IM-0718-0001.jpeg\r\n",
      "IM-0355-0001.jpeg\t\tNORMAL2-IM-0719-0001.jpeg\r\n",
      "IM-0356-0001.jpeg\t\tNORMAL2-IM-0723-0001.jpeg\r\n",
      "IM-0357-0001.jpeg\t\tNORMAL2-IM-0725-0001.jpeg\r\n",
      "IM-0358-0001.jpeg\t\tNORMAL2-IM-0727-0001.jpeg\r\n",
      "IM-0359-0001.jpeg\t\tNORMAL2-IM-0730-0001.jpeg\r\n",
      "IM-0361-0001.jpeg\t\tNORMAL2-IM-0736-0001.jpeg\r\n",
      "IM-0362-0001.jpeg\t\tNORMAL2-IM-0741-0001.jpeg\r\n",
      "IM-0363-0001.jpeg\t\tNORMAL2-IM-0744-0001.jpeg\r\n",
      "IM-0364-0001.jpeg\t\tNORMAL2-IM-0746-0001.jpeg\r\n",
      "IM-0365-0001.jpeg\t\tNORMAL2-IM-0749-0001.jpeg\r\n",
      "IM-0367-0001.jpeg\t\tNORMAL2-IM-0753-0001.jpeg\r\n",
      "IM-0368-0001.jpeg\t\tNORMAL2-IM-0757-0001.jpeg\r\n",
      "IM-0369-0001.jpeg\t\tNORMAL2-IM-0765-0001.jpeg\r\n",
      "IM-0370-0001.jpeg\t\tNORMAL2-IM-0771-0001.jpeg\r\n",
      "IM-0371-0001.jpeg\t\tNORMAL2-IM-0772-0001.jpeg\r\n",
      "IM-0372-0001.jpeg\t\tNORMAL2-IM-0774-0001.jpeg\r\n",
      "IM-0374-0001.jpeg\t\tNORMAL2-IM-0775-0001.jpeg\r\n",
      "IM-0375-0001.jpeg\t\tNORMAL2-IM-0776-0001.jpeg\r\n",
      "IM-0377-0001.jpeg\t\tNORMAL2-IM-0777-0001.jpeg\r\n",
      "IM-0379-0001.jpeg\t\tNORMAL2-IM-0780-0001.jpeg\r\n",
      "IM-0381-0001.jpeg\t\tNORMAL2-IM-0781-0001.jpeg\r\n",
      "IM-0382-0001.jpeg\t\tNORMAL2-IM-0790-0001.jpeg\r\n",
      "IM-0383-0001.jpeg\t\tNORMAL2-IM-0793-0001.jpeg\r\n",
      "IM-0384-0001.jpeg\t\tNORMAL2-IM-0796-0001.jpeg\r\n",
      "IM-0385-0001.jpeg\t\tNORMAL2-IM-0797-0001.jpeg\r\n",
      "IM-0386-0001.jpeg\t\tNORMAL2-IM-0798-0001.jpeg\r\n",
      "IM-0387-0001.jpeg\t\tNORMAL2-IM-0799-0001.jpeg\r\n",
      "IM-0388-0001.jpeg\t\tNORMAL2-IM-0803-0001.jpeg\r\n",
      "IM-0389-0001.jpeg\t\tNORMAL2-IM-0804-0001.jpeg\r\n",
      "IM-0391-0001.jpeg\t\tNORMAL2-IM-0806-0001.jpeg\r\n",
      "IM-0392-0001.jpeg\t\tNORMAL2-IM-0807-0001.jpeg\r\n",
      "IM-0393-0001.jpeg\t\tNORMAL2-IM-0808-0001.jpeg\r\n",
      "IM-0394-0001.jpeg\t\tNORMAL2-IM-0809-0001.jpeg\r\n",
      "IM-0395-0001.jpeg\t\tNORMAL2-IM-0810-0001.jpeg\r\n",
      "IM-0399-0001.jpeg\t\tNORMAL2-IM-0811-0001.jpeg\r\n",
      "IM-0400-0001.jpeg\t\tNORMAL2-IM-0812-0001.jpeg\r\n",
      "IM-0401-0001.jpeg\t\tNORMAL2-IM-0814-0001.jpeg\r\n",
      "IM-0403-0001.jpeg\t\tNORMAL2-IM-0815-0001.jpeg\r\n",
      "IM-0404-0001.jpeg\t\tNORMAL2-IM-0816-0001.jpeg\r\n",
      "IM-0405-0001.jpeg\t\tNORMAL2-IM-0818-0001-0002.jpeg\r\n",
      "IM-0408-0001.jpeg\t\tNORMAL2-IM-0818-0001.jpeg\r\n",
      "IM-0409-0001.jpeg\t\tNORMAL2-IM-0819-0001.jpeg\r\n",
      "IM-0410-0001.jpeg\t\tNORMAL2-IM-0820-0001.jpeg\r\n",
      "IM-0411-0001.jpeg\t\tNORMAL2-IM-0821-0001.jpeg\r\n",
      "IM-0413-0001.jpeg\t\tNORMAL2-IM-0822-0001.jpeg\r\n",
      "IM-0414-0001.jpeg\t\tNORMAL2-IM-0824-0001.jpeg\r\n",
      "IM-0416-0001.jpeg\t\tNORMAL2-IM-0825-0001.jpeg\r\n",
      "IM-0417-0001.jpeg\t\tNORMAL2-IM-0826-0001.jpeg\r\n",
      "IM-0419-0001.jpeg\t\tNORMAL2-IM-0827-0001.jpeg\r\n",
      "IM-0420-0001.jpeg\t\tNORMAL2-IM-0828-0001.jpeg\r\n",
      "IM-0421-0001.jpeg\t\tNORMAL2-IM-0829-0001.jpeg\r\n",
      "IM-0423-0001.jpeg\t\tNORMAL2-IM-0830-0001.jpeg\r\n",
      "IM-0424-0001.jpeg\t\tNORMAL2-IM-0831-0001.jpeg\r\n",
      "IM-0425-0001.jpeg\t\tNORMAL2-IM-0832-0001-0001.jpeg\r\n",
      "IM-0427-0001.jpeg\t\tNORMAL2-IM-0832-0001-0002.jpeg\r\n",
      "IM-0428-0001.jpeg\t\tNORMAL2-IM-0832-0001.jpeg\r\n",
      "IM-0429-0001-0001.jpeg\t\tNORMAL2-IM-0833-0001.jpeg\r\n",
      "IM-0429-0001-0002.jpeg\t\tNORMAL2-IM-0834-0001.jpeg\r\n",
      "IM-0429-0001.jpeg\t\tNORMAL2-IM-0836-0001.jpeg\r\n",
      "IM-0430-0001.jpeg\t\tNORMAL2-IM-0837-0001.jpeg\r\n",
      "IM-0431-0001.jpeg\t\tNORMAL2-IM-0838-0001.jpeg\r\n",
      "IM-0432-0001.jpeg\t\tNORMAL2-IM-0839-0001.jpeg\r\n",
      "IM-0433-0001.jpeg\t\tNORMAL2-IM-0840-0001.jpeg\r\n",
      "IM-0434-0001.jpeg\t\tNORMAL2-IM-0841-0001.jpeg\r\n",
      "IM-0435-0001-0001.jpeg\t\tNORMAL2-IM-0842-0001.jpeg\r\n",
      "IM-0435-0001.jpeg\t\tNORMAL2-IM-0843-0001.jpeg\r\n",
      "IM-0437-0001-0001.jpeg\t\tNORMAL2-IM-0845-0001.jpeg\r\n",
      "IM-0437-0001-0002.jpeg\t\tNORMAL2-IM-0846-0001.jpeg\r\n",
      "IM-0437-0001.jpeg\t\tNORMAL2-IM-0847-0001.jpeg\r\n",
      "IM-0438-0001.jpeg\t\tNORMAL2-IM-0848-0001.jpeg\r\n",
      "IM-0439-0001-0001.jpeg\t\tNORMAL2-IM-0849-0001.jpeg\r\n",
      "IM-0439-0001-0002.jpeg\t\tNORMAL2-IM-0851-0001-0001.jpeg\r\n",
      "IM-0439-0001.jpeg\t\tNORMAL2-IM-0851-0001-0002.jpeg\r\n",
      "IM-0440-0001.jpeg\t\tNORMAL2-IM-0851-0001.jpeg\r\n",
      "IM-0441-0001.jpeg\t\tNORMAL2-IM-0852-0001.jpeg\r\n",
      "IM-0442-0001.jpeg\t\tNORMAL2-IM-0853-0001.jpeg\r\n",
      "IM-0444-0001.jpeg\t\tNORMAL2-IM-0854-0001.jpeg\r\n",
      "IM-0445-0001.jpeg\t\tNORMAL2-IM-0855-0001.jpeg\r\n",
      "IM-0446-0001.jpeg\t\tNORMAL2-IM-0856-0001.jpeg\r\n",
      "IM-0447-0001.jpeg\t\tNORMAL2-IM-0857-0001.jpeg\r\n",
      "IM-0448-0001.jpeg\t\tNORMAL2-IM-0858-0001.jpeg\r\n",
      "IM-0449-0001.jpeg\t\tNORMAL2-IM-0859-0001.jpeg\r\n",
      "IM-0450-0001.jpeg\t\tNORMAL2-IM-0860-0001.jpeg\r\n",
      "IM-0451-0001.jpeg\t\tNORMAL2-IM-0862-0001.jpeg\r\n",
      "IM-0452-0001.jpeg\t\tNORMAL2-IM-0863-0001.jpeg\r\n",
      "IM-0453-0001-0002.jpeg\t\tNORMAL2-IM-0865-0001.jpeg\r\n",
      "IM-0453-0001.jpeg\t\tNORMAL2-IM-0866-0001.jpeg\r\n",
      "IM-0455-0001.jpeg\t\tNORMAL2-IM-0867-0001.jpeg\r\n",
      "IM-0456-0001.jpeg\t\tNORMAL2-IM-0868-0001.jpeg\r\n",
      "IM-0457-0001.jpeg\t\tNORMAL2-IM-0869-0001.jpeg\r\n",
      "IM-0458-0001.jpeg\t\tNORMAL2-IM-0870-0001.jpeg\r\n",
      "IM-0459-0001.jpeg\t\tNORMAL2-IM-0871-0001.jpeg\r\n",
      "IM-0460-0001.jpeg\t\tNORMAL2-IM-0872-0001.jpeg\r\n",
      "IM-0461-0001.jpeg\t\tNORMAL2-IM-0873-0001.jpeg\r\n",
      "IM-0463-0001.jpeg\t\tNORMAL2-IM-0874-0001.jpeg\r\n",
      "IM-0464-0001.jpeg\t\tNORMAL2-IM-0875-0001.jpeg\r\n",
      "IM-0465-0001.jpeg\t\tNORMAL2-IM-0876-0001.jpeg\r\n",
      "IM-0466-0001.jpeg\t\tNORMAL2-IM-0877-0001.jpeg\r\n",
      "IM-0467-0001-0001.jpeg\t\tNORMAL2-IM-0879-0001.jpeg\r\n",
      "IM-0467-0001-0002.jpeg\t\tNORMAL2-IM-0880-0001.jpeg\r\n",
      "IM-0467-0001.jpeg\t\tNORMAL2-IM-0881-0001.jpeg\r\n",
      "IM-0469-0001.jpeg\t\tNORMAL2-IM-0882-0001.jpeg\r\n",
      "IM-0471-0001.jpeg\t\tNORMAL2-IM-0885-0001.jpeg\r\n",
      "IM-0472-0001.jpeg\t\tNORMAL2-IM-0886-0001.jpeg\r\n",
      "IM-0473-0001.jpeg\t\tNORMAL2-IM-0887-0001.jpeg\r\n",
      "IM-0474-0001.jpeg\t\tNORMAL2-IM-0888-0001.jpeg\r\n",
      "IM-0475-0001.jpeg\t\tNORMAL2-IM-0890-0001.jpeg\r\n",
      "IM-0476-0001.jpeg\t\tNORMAL2-IM-0892-0001.jpeg\r\n",
      "IM-0477-0001.jpeg\t\tNORMAL2-IM-0893-0001.jpeg\r\n",
      "IM-0478-0001.jpeg\t\tNORMAL2-IM-0894-0001.jpeg\r\n",
      "IM-0479-0001.jpeg\t\tNORMAL2-IM-0895-0001.jpeg\r\n",
      "IM-0480-0001.jpeg\t\tNORMAL2-IM-0896-0001.jpeg\r\n",
      "IM-0481-0001.jpeg\t\tNORMAL2-IM-0897-0001.jpeg\r\n",
      "IM-0482-0001.jpeg\t\tNORMAL2-IM-0898-0001.jpeg\r\n",
      "IM-0483-0001.jpeg\t\tNORMAL2-IM-0899-0001.jpeg\r\n",
      "IM-0484-0001.jpeg\t\tNORMAL2-IM-0900-0001.jpeg\r\n",
      "IM-0485-0001.jpeg\t\tNORMAL2-IM-0903-0001.jpeg\r\n",
      "IM-0486-0001.jpeg\t\tNORMAL2-IM-0904-0001.jpeg\r\n",
      "IM-0487-0001.jpeg\t\tNORMAL2-IM-0905-0001.jpeg\r\n",
      "IM-0488-0001.jpeg\t\tNORMAL2-IM-0906-0001.jpeg\r\n",
      "IM-0489-0001.jpeg\t\tNORMAL2-IM-0907-0001.jpeg\r\n",
      "IM-0490-0001.jpeg\t\tNORMAL2-IM-0908-0001.jpeg\r\n",
      "IM-0491-0001-0001.jpeg\t\tNORMAL2-IM-0909-0001.jpeg\r\n",
      "IM-0491-0001-0002.jpeg\t\tNORMAL2-IM-0910-0001.jpeg\r\n",
      "IM-0491-0001.jpeg\t\tNORMAL2-IM-0911-0001.jpeg\r\n",
      "IM-0492-0001.jpeg\t\tNORMAL2-IM-0912-0001.jpeg\r\n",
      "IM-0493-0001.jpeg\t\tNORMAL2-IM-0913-0001.jpeg\r\n",
      "IM-0494-0001.jpeg\t\tNORMAL2-IM-0914-0001.jpeg\r\n",
      "IM-0495-0001.jpeg\t\tNORMAL2-IM-0915-0001.jpeg\r\n",
      "IM-0496-0001.jpeg\t\tNORMAL2-IM-0917-0001.jpeg\r\n",
      "IM-0497-0001-0001.jpeg\t\tNORMAL2-IM-0918-0001.jpeg\r\n",
      "IM-0497-0001-0002.jpeg\t\tNORMAL2-IM-0919-0001.jpeg\r\n",
      "IM-0497-0001.jpeg\t\tNORMAL2-IM-0922-0001.jpeg\r\n",
      "IM-0499-0001-0001.jpeg\t\tNORMAL2-IM-0923-0001.jpeg\r\n",
      "IM-0499-0001-0002.jpeg\t\tNORMAL2-IM-0924-0001.jpeg\r\n",
      "IM-0499-0001.jpeg\t\tNORMAL2-IM-0925-0001.jpeg\r\n",
      "IM-0500-0001.jpeg\t\tNORMAL2-IM-0926-0001.jpeg\r\n",
      "IM-0501-0001-0001.jpeg\t\tNORMAL2-IM-0927-0001.jpeg\r\n",
      "IM-0501-0001-0002.jpeg\t\tNORMAL2-IM-0929-0001.jpeg\r\n",
      "IM-0501-0001.jpeg\t\tNORMAL2-IM-0930-0001.jpeg\r\n",
      "IM-0502-0001.jpeg\t\tNORMAL2-IM-0931-0001.jpeg\r\n",
      "IM-0503-0001.jpeg\t\tNORMAL2-IM-0932-0001.jpeg\r\n",
      "IM-0504-0001.jpeg\t\tNORMAL2-IM-0933-0001.jpeg\r\n",
      "IM-0505-0001-0001.jpeg\t\tNORMAL2-IM-0934-0001.jpeg\r\n",
      "IM-0505-0001-0002.jpeg\t\tNORMAL2-IM-0935-0001.jpeg\r\n",
      "IM-0505-0001.jpeg\t\tNORMAL2-IM-0936-0001.jpeg\r\n",
      "IM-0506-0001.jpeg\t\tNORMAL2-IM-0937-0001.jpeg\r\n",
      "IM-0507-0001.jpeg\t\tNORMAL2-IM-0939-0001.jpeg\r\n",
      "IM-0508-0001.jpeg\t\tNORMAL2-IM-0941-0001.jpeg\r\n",
      "IM-0509-0001-0001.jpeg\t\tNORMAL2-IM-0942-0001.jpeg\r\n",
      "IM-0509-0001-0002.jpeg\t\tNORMAL2-IM-0944-0001.jpeg\r\n",
      "IM-0509-0001.jpeg\t\tNORMAL2-IM-0945-0001.jpeg\r\n",
      "IM-0510-0001.jpeg\t\tNORMAL2-IM-0946-0001.jpeg\r\n",
      "IM-0511-0001-0001.jpeg\t\tNORMAL2-IM-0947-0001.jpeg\r\n",
      "IM-0511-0001-0002.jpeg\t\tNORMAL2-IM-0948-0001.jpeg\r\n",
      "IM-0511-0001.jpeg\t\tNORMAL2-IM-0949-0001.jpeg\r\n",
      "IM-0512-0001.jpeg\t\tNORMAL2-IM-0950-0001.jpeg\r\n",
      "IM-0513-0001.jpeg\t\tNORMAL2-IM-0951-0001.jpeg\r\n",
      "IM-0514-0001.jpeg\t\tNORMAL2-IM-0952-0001.jpeg\r\n",
      "IM-0515-0001.jpeg\t\tNORMAL2-IM-0954-0001.jpeg\r\n",
      "IM-0516-0001.jpeg\t\tNORMAL2-IM-0955-0001.jpeg\r\n",
      "IM-0517-0001-0001.jpeg\t\tNORMAL2-IM-0956-0001.jpeg\r\n",
      "IM-0517-0001.jpeg\t\tNORMAL2-IM-0957-0001.jpeg\r\n",
      "IM-0519-0001-0001.jpeg\t\tNORMAL2-IM-0959-0001.jpeg\r\n",
      "IM-0519-0001-0002.jpeg\t\tNORMAL2-IM-0960-0001.jpeg\r\n",
      "IM-0519-0001.jpeg\t\tNORMAL2-IM-0961-0001.jpeg\r\n",
      "IM-0520-0001.jpeg\t\tNORMAL2-IM-0962-0001.jpeg\r\n",
      "IM-0521-0001.jpeg\t\tNORMAL2-IM-0965-0001.jpeg\r\n",
      "IM-0522-0001.jpeg\t\tNORMAL2-IM-0966-0001.jpeg\r\n",
      "IM-0523-0001-0001.jpeg\t\tNORMAL2-IM-0967-0001.jpeg\r\n",
      "IM-0523-0001-0002.jpeg\t\tNORMAL2-IM-0969-0001.jpeg\r\n",
      "IM-0523-0001-0003.jpeg\t\tNORMAL2-IM-0970-0001.jpeg\r\n",
      "IM-0523-0001.jpeg\t\tNORMAL2-IM-0971-0001-0001.jpeg\r\n",
      "IM-0524-0001.jpeg\t\tNORMAL2-IM-0971-0001-0002.jpeg\r\n",
      "IM-0525-0001-0001.jpeg\t\tNORMAL2-IM-0974-0001.jpeg\r\n",
      "IM-0525-0001-0002.jpeg\t\tNORMAL2-IM-0975-0001.jpeg\r\n",
      "IM-0525-0001.jpeg\t\tNORMAL2-IM-0976-0001.jpeg\r\n",
      "IM-0526-0001.jpeg\t\tNORMAL2-IM-0977-0001.jpeg\r\n",
      "IM-0527-0001.jpeg\t\tNORMAL2-IM-0978-0001.jpeg\r\n",
      "IM-0528-0001.jpeg\t\tNORMAL2-IM-0979-0001.jpeg\r\n",
      "IM-0529-0001.jpeg\t\tNORMAL2-IM-0980-0001.jpeg\r\n",
      "IM-0530-0001.jpeg\t\tNORMAL2-IM-0981-0001.jpeg\r\n",
      "IM-0531-0001-0001.jpeg\t\tNORMAL2-IM-0983-0001-0001.jpeg\r\n",
      "IM-0531-0001.jpeg\t\tNORMAL2-IM-0983-0001-0002.jpeg\r\n",
      "IM-0532-0001.jpeg\t\tNORMAL2-IM-0983-0001.jpeg\r\n",
      "IM-0533-0001-0001.jpeg\t\tNORMAL2-IM-0986-0001.jpeg\r\n",
      "IM-0533-0001-0002.jpeg\t\tNORMAL2-IM-0987-0001.jpeg\r\n",
      "IM-0533-0001.jpeg\t\tNORMAL2-IM-0988-0001.jpeg\r\n",
      "IM-0534-0001.jpeg\t\tNORMAL2-IM-0989-0001.jpeg\r\n",
      "IM-0535-0001.jpeg\t\tNORMAL2-IM-0992-0001.jpeg\r\n",
      "IM-0536-0001.jpeg\t\tNORMAL2-IM-0993-0001.jpeg\r\n",
      "IM-0537-0001.jpeg\t\tNORMAL2-IM-0994-0001.jpeg\r\n",
      "IM-0538-0001.jpeg\t\tNORMAL2-IM-0995-0001-0001.jpeg\r\n",
      "IM-0539-0001-0001.jpeg\t\tNORMAL2-IM-0995-0001-0002.jpeg\r\n",
      "IM-0539-0001-0002.jpeg\t\tNORMAL2-IM-0995-0001.jpeg\r\n",
      "IM-0539-0001.jpeg\t\tNORMAL2-IM-0997-0001.jpeg\r\n",
      "IM-0540-0001.jpeg\t\tNORMAL2-IM-0998-0001.jpeg\r\n",
      "IM-0541-0001.jpeg\t\tNORMAL2-IM-0999-0001.jpeg\r\n",
      "IM-0542-0001.jpeg\t\tNORMAL2-IM-1001-0001.jpeg\r\n",
      "IM-0543-0001-0002.jpeg\t\tNORMAL2-IM-1002-0001.jpeg\r\n",
      "IM-0543-0001.jpeg\t\tNORMAL2-IM-1004-0001.jpeg\r\n",
      "IM-0544-0001.jpeg\t\tNORMAL2-IM-1005-0001.jpeg\r\n",
      "IM-0545-0001-0001.jpeg\t\tNORMAL2-IM-1006-0001.jpeg\r\n",
      "IM-0545-0001-0002.jpeg\t\tNORMAL2-IM-1008-0001.jpeg\r\n",
      "IM-0545-0001.jpeg\t\tNORMAL2-IM-1010-0001.jpeg\r\n",
      "IM-0546-0001.jpeg\t\tNORMAL2-IM-1011-0001.jpeg\r\n",
      "IM-0547-0001.jpeg\t\tNORMAL2-IM-1014-0001.jpeg\r\n",
      "IM-0548-0001.jpeg\t\tNORMAL2-IM-1015-0001.jpeg\r\n",
      "IM-0549-0001-0001.jpeg\t\tNORMAL2-IM-1016-0001.jpeg\r\n",
      "IM-0549-0001-0002.jpeg\t\tNORMAL2-IM-1017-0001.jpeg\r\n",
      "IM-0549-0001.jpeg\t\tNORMAL2-IM-1018-0001.jpeg\r\n",
      "IM-0551-0001-0001.jpeg\t\tNORMAL2-IM-1019-0001.jpeg\r\n",
      "IM-0551-0001-0002.jpeg\t\tNORMAL2-IM-1020-0001-0001.jpeg\r\n",
      "IM-0551-0001.jpeg\t\tNORMAL2-IM-1020-0001-0002.jpeg\r\n",
      "IM-0552-0001.jpeg\t\tNORMAL2-IM-1020-0001.jpeg\r\n",
      "IM-0553-0001-0001.jpeg\t\tNORMAL2-IM-1022-0001.jpeg\r\n",
      "IM-0553-0001-0002.jpeg\t\tNORMAL2-IM-1023-0001.jpeg\r\n",
      "IM-0553-0001-0003.jpeg\t\tNORMAL2-IM-1024-0001.jpeg\r\n",
      "IM-0553-0001.jpeg\t\tNORMAL2-IM-1025-0001.jpeg\r\n",
      "IM-0554-0001.jpeg\t\tNORMAL2-IM-1026-0001.jpeg\r\n",
      "IM-0555-0001-0001.jpeg\t\tNORMAL2-IM-1027-0001.jpeg\r\n",
      "IM-0555-0001-0002.jpeg\t\tNORMAL2-IM-1028-0001.jpeg\r\n",
      "IM-0555-0001.jpeg\t\tNORMAL2-IM-1030-0001.jpeg\r\n",
      "IM-0556-0001.jpeg\t\tNORMAL2-IM-1033-0001.jpeg\r\n",
      "IM-0557-0001.jpeg\t\tNORMAL2-IM-1035-0001.jpeg\r\n",
      "IM-0559-0001.jpeg\t\tNORMAL2-IM-1037-0001.jpeg\r\n",
      "IM-0560-0001.jpeg\t\tNORMAL2-IM-1038-0001.jpeg\r\n",
      "IM-0561-0001.jpeg\t\tNORMAL2-IM-1039-0001.jpeg\r\n",
      "IM-0562-0001.jpeg\t\tNORMAL2-IM-1040-0001.jpeg\r\n",
      "IM-0563-0001.jpeg\t\tNORMAL2-IM-1041-0001.jpeg\r\n",
      "IM-0564-0001.jpeg\t\tNORMAL2-IM-1043-0001.jpeg\r\n",
      "IM-0565-0001.jpeg\t\tNORMAL2-IM-1044-0001.jpeg\r\n",
      "IM-0566-0001.jpeg\t\tNORMAL2-IM-1045-0001.jpeg\r\n",
      "IM-0568-0001.jpeg\t\tNORMAL2-IM-1046-0001.jpeg\r\n",
      "IM-0569-0001.jpeg\t\tNORMAL2-IM-1047-0001.jpeg\r\n",
      "IM-0570-0001.jpeg\t\tNORMAL2-IM-1048-0001.jpeg\r\n",
      "IM-0571-0001.jpeg\t\tNORMAL2-IM-1049-0001.jpeg\r\n",
      "IM-0574-0001.jpeg\t\tNORMAL2-IM-1050-0001.jpeg\r\n",
      "IM-0575-0001.jpeg\t\tNORMAL2-IM-1051-0001.jpeg\r\n",
      "IM-0577-0001.jpeg\t\tNORMAL2-IM-1052-0001.jpeg\r\n",
      "IM-0578-0001.jpeg\t\tNORMAL2-IM-1053-0001.jpeg\r\n",
      "IM-0579-0001.jpeg\t\tNORMAL2-IM-1054-0001.jpeg\r\n",
      "IM-0580-0001.jpeg\t\tNORMAL2-IM-1055-0001.jpeg\r\n",
      "IM-0581-0001.jpeg\t\tNORMAL2-IM-1056-0001.jpeg\r\n",
      "IM-0582-0001.jpeg\t\tNORMAL2-IM-1058-0001.jpeg\r\n",
      "IM-0583-0001.jpeg\t\tNORMAL2-IM-1059-0001.jpeg\r\n",
      "IM-0584-0001.jpeg\t\tNORMAL2-IM-1060-0001.jpeg\r\n",
      "IM-0586-0001.jpeg\t\tNORMAL2-IM-1062-0001.jpeg\r\n",
      "IM-0588-0001.jpeg\t\tNORMAL2-IM-1064-0001.jpeg\r\n",
      "IM-0590-0001.jpeg\t\tNORMAL2-IM-1067-0001-0001.jpeg\r\n",
      "IM-0591-0001.jpeg\t\tNORMAL2-IM-1067-0001.jpeg\r\n",
      "IM-0592-0001.jpeg\t\tNORMAL2-IM-1073-0001.jpeg\r\n",
      "IM-0593-0001.jpeg\t\tNORMAL2-IM-1084-0001.jpeg\r\n",
      "IM-0595-0001.jpeg\t\tNORMAL2-IM-1086-0001.jpeg\r\n",
      "IM-0596-0001.jpeg\t\tNORMAL2-IM-1088-0001.jpeg\r\n",
      "IM-0598-0001.jpeg\t\tNORMAL2-IM-1089-0001.jpeg\r\n",
      "IM-0599-0001.jpeg\t\tNORMAL2-IM-1090-0001.jpeg\r\n",
      "IM-0600-0001.jpeg\t\tNORMAL2-IM-1091-0001.jpeg\r\n",
      "IM-0601-0001.jpeg\t\tNORMAL2-IM-1093-0001.jpeg\r\n",
      "IM-0602-0001.jpeg\t\tNORMAL2-IM-1094-0001-0001.jpeg\r\n",
      "IM-0604-0001.jpeg\t\tNORMAL2-IM-1094-0001-0002.jpeg\r\n",
      "IM-0605-0001.jpeg\t\tNORMAL2-IM-1094-0001.jpeg\r\n",
      "IM-0606-0001.jpeg\t\tNORMAL2-IM-1096-0001-0001.jpeg\r\n",
      "IM-0607-0001.jpeg\t\tNORMAL2-IM-1096-0001-0003.jpeg\r\n",
      "IM-0608-0001-0001.jpeg\t\tNORMAL2-IM-1096-0001.jpeg\r\n",
      "IM-0608-0001-0002.jpeg\t\tNORMAL2-IM-1098-0001.jpeg\r\n",
      "IM-0608-0001.jpeg\t\tNORMAL2-IM-1100-0001.jpeg\r\n",
      "IM-0609-0001.jpeg\t\tNORMAL2-IM-1102-0001-0001.jpeg\r\n",
      "IM-0612-0001-0001.jpeg\t\tNORMAL2-IM-1102-0001-0002.jpeg\r\n",
      "IM-0612-0001-0002.jpeg\t\tNORMAL2-IM-1102-0001.jpeg\r\n",
      "IM-0612-0001.jpeg\t\tNORMAL2-IM-1103-0001-0001.jpeg\r\n",
      "IM-0613-0001.jpeg\t\tNORMAL2-IM-1104-0001.jpeg\r\n",
      "IM-0614-0001.jpeg\t\tNORMAL2-IM-1105-0001.jpeg\r\n",
      "IM-0615-0001.jpeg\t\tNORMAL2-IM-1106-0001.jpeg\r\n",
      "IM-0616-0001.jpeg\t\tNORMAL2-IM-1108-0001.jpeg\r\n",
      "IM-0617-0001.jpeg\t\tNORMAL2-IM-1109-0001.jpeg\r\n",
      "IM-0618-0001-0001.jpeg\t\tNORMAL2-IM-1110-0001.jpeg\r\n",
      "IM-0618-0001-0002.jpeg\t\tNORMAL2-IM-1111-0001.jpeg\r\n",
      "IM-0618-0001.jpeg\t\tNORMAL2-IM-1112-0001.jpeg\r\n",
      "IM-0619-0001.jpeg\t\tNORMAL2-IM-1113-0001.jpeg\r\n",
      "IM-0620-0001-0001.jpeg\t\tNORMAL2-IM-1114-0001.jpeg\r\n",
      "IM-0620-0001-0002.jpeg\t\tNORMAL2-IM-1116-0001-0001.jpeg\r\n",
      "IM-0620-0001.jpeg\t\tNORMAL2-IM-1116-0001-0002.jpeg\r\n",
      "IM-0621-0001.jpeg\t\tNORMAL2-IM-1116-0001.jpeg\r\n",
      "IM-0622-0001-0001.jpeg\t\tNORMAL2-IM-1117-0001.jpeg\r\n",
      "IM-0622-0001-0002.jpeg\t\tNORMAL2-IM-1118-0001.jpeg\r\n",
      "IM-0622-0001.jpeg\t\tNORMAL2-IM-1120-0001.jpeg\r\n",
      "IM-0623-0001.jpeg\t\tNORMAL2-IM-1122-0001.jpeg\r\n",
      "IM-0624-0001-0002.jpeg\t\tNORMAL2-IM-1123-0001.jpeg\r\n",
      "IM-0624-0001.jpeg\t\tNORMAL2-IM-1124-0001.jpeg\r\n",
      "IM-0625-0001.jpeg\t\tNORMAL2-IM-1125-0001.jpeg\r\n",
      "IM-0626-0001-0001.jpeg\t\tNORMAL2-IM-1126-0001.jpeg\r\n",
      "IM-0626-0001-0002.jpeg\t\tNORMAL2-IM-1127-0001.jpeg\r\n",
      "IM-0627-0001.jpeg\t\tNORMAL2-IM-1128-0001-0001.jpeg\r\n",
      "IM-0628-0001.jpeg\t\tNORMAL2-IM-1128-0001-0002.jpeg\r\n",
      "IM-0629-0001-0001.jpeg\t\tNORMAL2-IM-1128-0001.jpeg\r\n",
      "IM-0629-0001-0002.jpeg\t\tNORMAL2-IM-1130-0001.jpeg\r\n",
      "IM-0629-0001-0003.jpeg\t\tNORMAL2-IM-1131-0001.jpeg\r\n",
      "IM-0629-0001.jpeg\t\tNORMAL2-IM-1132-0001.jpeg\r\n",
      "IM-0630-0001.jpeg\t\tNORMAL2-IM-1134-0001.jpeg\r\n",
      "IM-0631-0001-0001.jpeg\t\tNORMAL2-IM-1135-0001.jpeg\r\n",
      "IM-0631-0001-0002.jpeg\t\tNORMAL2-IM-1136-0001.jpeg\r\n",
      "IM-0631-0001.jpeg\t\tNORMAL2-IM-1138-0001.jpeg\r\n",
      "IM-0632-0001.jpeg\t\tNORMAL2-IM-1141-0001.jpeg\r\n",
      "IM-0633-0001.jpeg\t\tNORMAL2-IM-1142-0001-0001.jpeg\r\n",
      "IM-0634-0001.jpeg\t\tNORMAL2-IM-1142-0001-0002.jpeg\r\n",
      "IM-0635-0001.jpeg\t\tNORMAL2-IM-1142-0001.jpeg\r\n",
      "IM-0636-0001.jpeg\t\tNORMAL2-IM-1144-0001.jpeg\r\n",
      "IM-0637-0001.jpeg\t\tNORMAL2-IM-1145-0001.jpeg\r\n",
      "IM-0640-0001-0001.jpeg\t\tNORMAL2-IM-1147-0001.jpeg\r\n",
      "IM-0640-0001-0002.jpeg\t\tNORMAL2-IM-1148-0001.jpeg\r\n",
      "IM-0640-0001.jpeg\t\tNORMAL2-IM-1149-0001.jpeg\r\n",
      "IM-0641-0001.jpeg\t\tNORMAL2-IM-1150-0001.jpeg\r\n",
      "IM-0642-0001.jpeg\t\tNORMAL2-IM-1151-0001.jpeg\r\n",
      "IM-0643-0001.jpeg\t\tNORMAL2-IM-1152-0001-0001.jpeg\r\n",
      "IM-0644-0001-0001.jpeg\t\tNORMAL2-IM-1152-0001-0002.jpeg\r\n",
      "IM-0644-0001-0002.jpeg\t\tNORMAL2-IM-1152-0001.jpeg\r\n",
      "IM-0644-0001.jpeg\t\tNORMAL2-IM-1153-0001.jpeg\r\n",
      "IM-0645-0001.jpeg\t\tNORMAL2-IM-1154-0001-0001.jpeg\r\n",
      "IM-0646-0001.jpeg\t\tNORMAL2-IM-1154-0001-0002.jpeg\r\n",
      "IM-0647-0001.jpeg\t\tNORMAL2-IM-1154-0001.jpeg\r\n",
      "IM-0648-0001.jpeg\t\tNORMAL2-IM-1155-0001.jpeg\r\n",
      "IM-0649-0001.jpeg\t\tNORMAL2-IM-1156-0001.jpeg\r\n",
      "IM-0650-0001-0001.jpeg\t\tNORMAL2-IM-1157-0001.jpeg\r\n",
      "IM-0650-0001-0002.jpeg\t\tNORMAL2-IM-1158-0001.jpeg\r\n",
      "IM-0650-0001.jpeg\t\tNORMAL2-IM-1160-0001.jpeg\r\n",
      "IM-0651-0001.jpeg\t\tNORMAL2-IM-1161-0001.jpeg\r\n",
      "IM-0652-0001-0002.jpeg\t\tNORMAL2-IM-1162-0001.jpeg\r\n",
      "IM-0652-0001.jpeg\t\tNORMAL2-IM-1163-0001.jpeg\r\n",
      "IM-0654-0001.jpeg\t\tNORMAL2-IM-1164-0001.jpeg\r\n",
      "IM-0655-0001.jpeg\t\tNORMAL2-IM-1167-0001.jpeg\r\n",
      "IM-0656-0001-0001.jpeg\t\tNORMAL2-IM-1168-0001.jpeg\r\n",
      "IM-0656-0001-0002.jpeg\t\tNORMAL2-IM-1169-0001.jpeg\r\n",
      "IM-0656-0001.jpeg\t\tNORMAL2-IM-1170-0001.jpeg\r\n",
      "IM-0657-0001.jpeg\t\tNORMAL2-IM-1171-0001.jpeg\r\n",
      "IM-0658-0001.jpeg\t\tNORMAL2-IM-1173-0001.jpeg\r\n",
      "IM-0659-0001.jpeg\t\tNORMAL2-IM-1174-0001.jpeg\r\n",
      "IM-0660-0001-0001.jpeg\t\tNORMAL2-IM-1175-0001.jpeg\r\n",
      "IM-0660-0001-0002.jpeg\t\tNORMAL2-IM-1176-0001.jpeg\r\n",
      "IM-0660-0001.jpeg\t\tNORMAL2-IM-1177-0001.jpeg\r\n",
      "IM-0661-0001.jpeg\t\tNORMAL2-IM-1178-0001.jpeg\r\n",
      "IM-0662-0001.jpeg\t\tNORMAL2-IM-1179-0001.jpeg\r\n",
      "IM-0663-0001.jpeg\t\tNORMAL2-IM-1180-0001.jpeg\r\n",
      "IM-0664-0001.jpeg\t\tNORMAL2-IM-1181-0001.jpeg\r\n",
      "IM-0665-0001.jpeg\t\tNORMAL2-IM-1182-0001.jpeg\r\n",
      "IM-0666-0001-0001.jpeg\t\tNORMAL2-IM-1183-0001.jpeg\r\n",
      "IM-0666-0001-0002.jpeg\t\tNORMAL2-IM-1184-0001.jpeg\r\n",
      "IM-0666-0001.jpeg\t\tNORMAL2-IM-1185-0001.jpeg\r\n",
      "IM-0667-0001.jpeg\t\tNORMAL2-IM-1187-0001.jpeg\r\n",
      "IM-0668-0001.jpeg\t\tNORMAL2-IM-1188-0001.jpeg\r\n",
      "IM-0669-0001.jpeg\t\tNORMAL2-IM-1189-0001.jpeg\r\n",
      "IM-0670-0001.jpeg\t\tNORMAL2-IM-1190-0001.jpeg\r\n",
      "IM-0671-0001.jpeg\t\tNORMAL2-IM-1191-0001.jpeg\r\n",
      "IM-0672-0001.jpeg\t\tNORMAL2-IM-1192-0001.jpeg\r\n",
      "IM-0673-0001.jpeg\t\tNORMAL2-IM-1194-0001.jpeg\r\n",
      "IM-0674-0001.jpeg\t\tNORMAL2-IM-1196-0001.jpeg\r\n",
      "IM-0675-0001.jpeg\t\tNORMAL2-IM-1197-0001.jpeg\r\n",
      "IM-0676-0001.jpeg\t\tNORMAL2-IM-1198-0001.jpeg\r\n",
      "IM-0677-0001.jpeg\t\tNORMAL2-IM-1200-0001.jpeg\r\n",
      "IM-0678-0001.jpeg\t\tNORMAL2-IM-1201-0001.jpeg\r\n",
      "IM-0679-0001.jpeg\t\tNORMAL2-IM-1202-0001.jpeg\r\n",
      "IM-0680-0001.jpeg\t\tNORMAL2-IM-1203-0001.jpeg\r\n",
      "IM-0681-0001.jpeg\t\tNORMAL2-IM-1204-0001.jpeg\r\n",
      "IM-0682-0001.jpeg\t\tNORMAL2-IM-1205-0001.jpeg\r\n",
      "IM-0683-0001.jpeg\t\tNORMAL2-IM-1206-0001.jpeg\r\n",
      "IM-0684-0001.jpeg\t\tNORMAL2-IM-1209-0001.jpeg\r\n",
      "IM-0685-0001.jpeg\t\tNORMAL2-IM-1214-0001.jpeg\r\n",
      "IM-0686-0001.jpeg\t\tNORMAL2-IM-1218-0001.jpeg\r\n",
      "IM-0687-0001.jpeg\t\tNORMAL2-IM-1219-0001.jpeg\r\n",
      "IM-0688-0001.jpeg\t\tNORMAL2-IM-1220-0001.jpeg\r\n",
      "IM-0689-0001.jpeg\t\tNORMAL2-IM-1221-0001.jpeg\r\n",
      "IM-0691-0001.jpeg\t\tNORMAL2-IM-1222-0001.jpeg\r\n",
      "IM-0692-0001.jpeg\t\tNORMAL2-IM-1223-0001.jpeg\r\n",
      "IM-0693-0001.jpeg\t\tNORMAL2-IM-1224-0001.jpeg\r\n",
      "IM-0694-0001.jpeg\t\tNORMAL2-IM-1225-0001.jpeg\r\n",
      "IM-0695-0001.jpeg\t\tNORMAL2-IM-1226-0001.jpeg\r\n",
      "IM-0696-0001.jpeg\t\tNORMAL2-IM-1227-0001.jpeg\r\n",
      "IM-0697-0001.jpeg\t\tNORMAL2-IM-1228-0001.jpeg\r\n",
      "IM-0698-0001.jpeg\t\tNORMAL2-IM-1231-0001.jpeg\r\n",
      "IM-0700-0001.jpeg\t\tNORMAL2-IM-1232-0001.jpeg\r\n",
      "IM-0701-0001.jpeg\t\tNORMAL2-IM-1234-0001.jpeg\r\n",
      "IM-0702-0001.jpeg\t\tNORMAL2-IM-1236-0001.jpeg\r\n",
      "IM-0703-0001.jpeg\t\tNORMAL2-IM-1237-0001.jpeg\r\n",
      "IM-0704-0001.jpeg\t\tNORMAL2-IM-1240-0001.jpeg\r\n",
      "IM-0705-0001.jpeg\t\tNORMAL2-IM-1241-0001.jpeg\r\n",
      "IM-0706-0001.jpeg\t\tNORMAL2-IM-1242-0001.jpeg\r\n",
      "IM-0707-0001.jpeg\t\tNORMAL2-IM-1243-0001.jpeg\r\n",
      "IM-0709-0001.jpeg\t\tNORMAL2-IM-1244-0001.jpeg\r\n",
      "IM-0710-0001.jpeg\t\tNORMAL2-IM-1245-0001.jpeg\r\n",
      "IM-0711-0001.jpeg\t\tNORMAL2-IM-1247-0001.jpeg\r\n",
      "IM-0712-0001.jpeg\t\tNORMAL2-IM-1250-0001.jpeg\r\n",
      "IM-0713-0001.jpeg\t\tNORMAL2-IM-1252-0001.jpeg\r\n",
      "IM-0714-0001.jpeg\t\tNORMAL2-IM-1253-0001.jpeg\r\n",
      "IM-0715-0001.jpeg\t\tNORMAL2-IM-1254-0001.jpeg\r\n",
      "IM-0716-0001.jpeg\t\tNORMAL2-IM-1256-0001.jpeg\r\n",
      "IM-0717-0001.jpeg\t\tNORMAL2-IM-1257-0001.jpeg\r\n",
      "IM-0718-0001.jpeg\t\tNORMAL2-IM-1258-0001-0001.jpeg\r\n",
      "IM-0719-0001.jpeg\t\tNORMAL2-IM-1258-0001-0002.jpeg\r\n",
      "IM-0721-0001.jpeg\t\tNORMAL2-IM-1258-0001.jpeg\r\n",
      "IM-0722-0001.jpeg\t\tNORMAL2-IM-1260-0001.jpeg\r\n",
      "IM-0724-0001.jpeg\t\tNORMAL2-IM-1261-0001.jpeg\r\n",
      "IM-0727-0001.jpeg\t\tNORMAL2-IM-1262-0001.jpeg\r\n",
      "IM-0728-0001.jpeg\t\tNORMAL2-IM-1264-0001.jpeg\r\n",
      "IM-0729-0001.jpeg\t\tNORMAL2-IM-1266-0001-0001.jpeg\r\n",
      "IM-0730-0001.jpeg\t\tNORMAL2-IM-1266-0001-0002.jpeg\r\n",
      "IM-0732-0001.jpeg\t\tNORMAL2-IM-1266-0001.jpeg\r\n",
      "IM-0733-0001.jpeg\t\tNORMAL2-IM-1267-0001.jpeg\r\n",
      "IM-0734-0001.jpeg\t\tNORMAL2-IM-1269-0001-0001.jpeg\r\n",
      "IM-0735-0001.jpeg\t\tNORMAL2-IM-1269-0001-0002.jpeg\r\n",
      "IM-0736-0001.jpeg\t\tNORMAL2-IM-1269-0001.jpeg\r\n",
      "IM-0737-0001.jpeg\t\tNORMAL2-IM-1270-0001.jpeg\r\n",
      "IM-0738-0001.jpeg\t\tNORMAL2-IM-1271-0001.jpeg\r\n",
      "IM-0739-0001.jpeg\t\tNORMAL2-IM-1272-0001.jpeg\r\n",
      "IM-0740-0001.jpeg\t\tNORMAL2-IM-1273-0001.jpeg\r\n",
      "IM-0741-0001.jpeg\t\tNORMAL2-IM-1274-0001.jpeg\r\n",
      "IM-0742-0001.jpeg\t\tNORMAL2-IM-1275-0001.jpeg\r\n",
      "IM-0746-0001.jpeg\t\tNORMAL2-IM-1276-0001.jpeg\r\n",
      "IM-0747-0001.jpeg\t\tNORMAL2-IM-1277-0001-0001.jpeg\r\n",
      "IM-0748-0001.jpeg\t\tNORMAL2-IM-1277-0001-0002.jpeg\r\n",
      "IM-0750-0001.jpeg\t\tNORMAL2-IM-1277-0001.jpeg\r\n",
      "IM-0751-0001.jpeg\t\tNORMAL2-IM-1278-0001.jpeg\r\n",
      "IM-0752-0001.jpeg\t\tNORMAL2-IM-1279-0001.jpeg\r\n",
      "IM-0753-0001.jpeg\t\tNORMAL2-IM-1280-0001.jpeg\r\n",
      "IM-0754-0001.jpeg\t\tNORMAL2-IM-1281-0001.jpeg\r\n",
      "IM-0755-0001.jpeg\t\tNORMAL2-IM-1282-0001.jpeg\r\n",
      "IM-0757-0001.jpeg\t\tNORMAL2-IM-1285-0001.jpeg\r\n",
      "IM-0761-0001.jpeg\t\tNORMAL2-IM-1286-0001.jpeg\r\n",
      "IM-0764-0001.jpeg\t\tNORMAL2-IM-1287-0001.jpeg\r\n",
      "IM-0766-0001.jpeg\t\tNORMAL2-IM-1288-0001.jpeg\r\n",
      "NORMAL2-IM-0383-0001.jpeg\tNORMAL2-IM-1289-0001.jpeg\r\n",
      "NORMAL2-IM-0384-0001.jpeg\tNORMAL2-IM-1290-0001.jpeg\r\n",
      "NORMAL2-IM-0385-0001.jpeg\tNORMAL2-IM-1291-0001.jpeg\r\n",
      "NORMAL2-IM-0386-0001.jpeg\tNORMAL2-IM-1292-0001.jpeg\r\n",
      "NORMAL2-IM-0388-0001.jpeg\tNORMAL2-IM-1293-0001.jpeg\r\n",
      "NORMAL2-IM-0389-0001.jpeg\tNORMAL2-IM-1294-0001-0001.jpeg\r\n",
      "NORMAL2-IM-0390-0001.jpeg\tNORMAL2-IM-1294-0001-0002.jpeg\r\n",
      "NORMAL2-IM-0391-0001.jpeg\tNORMAL2-IM-1294-0001.jpeg\r\n",
      "NORMAL2-IM-0392-0001.jpeg\tNORMAL2-IM-1295-0001.jpeg\r\n",
      "NORMAL2-IM-0393-0001.jpeg\tNORMAL2-IM-1296-0001.jpeg\r\n",
      "NORMAL2-IM-0394-0001.jpeg\tNORMAL2-IM-1300-0001.jpeg\r\n",
      "NORMAL2-IM-0395-0001-0001.jpeg\tNORMAL2-IM-1301-0001.jpeg\r\n",
      "NORMAL2-IM-0395-0001-0002.jpeg\tNORMAL2-IM-1302-0001.jpeg\r\n",
      "NORMAL2-IM-0395-0001.jpeg\tNORMAL2-IM-1303-0001.jpeg\r\n",
      "NORMAL2-IM-0396-0001.jpeg\tNORMAL2-IM-1304-0001.jpeg\r\n",
      "NORMAL2-IM-0397-0001.jpeg\tNORMAL2-IM-1305-0001.jpeg\r\n",
      "NORMAL2-IM-0399-0001.jpeg\tNORMAL2-IM-1306-0001.jpeg\r\n",
      "NORMAL2-IM-0401-0001.jpeg\tNORMAL2-IM-1307-0001.jpeg\r\n",
      "NORMAL2-IM-0402-0001.jpeg\tNORMAL2-IM-1308-0001.jpeg\r\n",
      "NORMAL2-IM-0403-0001.jpeg\tNORMAL2-IM-1310-0001.jpeg\r\n",
      "NORMAL2-IM-0404-0001.jpeg\tNORMAL2-IM-1311-0001.jpeg\r\n",
      "NORMAL2-IM-0406-0001.jpeg\tNORMAL2-IM-1314-0001.jpeg\r\n",
      "NORMAL2-IM-0407-0001.jpeg\tNORMAL2-IM-1315-0001.jpeg\r\n",
      "NORMAL2-IM-0408-0001.jpeg\tNORMAL2-IM-1316-0001.jpeg\r\n",
      "NORMAL2-IM-0409-0001.jpeg\tNORMAL2-IM-1317-0001.jpeg\r\n",
      "NORMAL2-IM-0410-0001.jpeg\tNORMAL2-IM-1318-0001.jpeg\r\n",
      "NORMAL2-IM-0412-0001.jpeg\tNORMAL2-IM-1319-0001.jpeg\r\n",
      "NORMAL2-IM-0413-0001.jpeg\tNORMAL2-IM-1320-0001.jpeg\r\n",
      "NORMAL2-IM-0414-0001.jpeg\tNORMAL2-IM-1321-0001.jpeg\r\n",
      "NORMAL2-IM-0415-0001.jpeg\tNORMAL2-IM-1322-0001.jpeg\r\n",
      "NORMAL2-IM-0416-0001-0001.jpeg\tNORMAL2-IM-1323-0001.jpeg\r\n",
      "NORMAL2-IM-0416-0001-0002.jpeg\tNORMAL2-IM-1326-0001.jpeg\r\n",
      "NORMAL2-IM-0416-0001.jpeg\tNORMAL2-IM-1327-0001.jpeg\r\n",
      "NORMAL2-IM-0417-0001.jpeg\tNORMAL2-IM-1328-0001.jpeg\r\n",
      "NORMAL2-IM-0418-0001.jpeg\tNORMAL2-IM-1329-0001.jpeg\r\n",
      "NORMAL2-IM-0419-0001.jpeg\tNORMAL2-IM-1330-0001.jpeg\r\n",
      "NORMAL2-IM-0421-0001.jpeg\tNORMAL2-IM-1332-0001.jpeg\r\n",
      "NORMAL2-IM-0423-0001.jpeg\tNORMAL2-IM-1333-0001.jpeg\r\n",
      "NORMAL2-IM-0424-0001.jpeg\tNORMAL2-IM-1334-0001.jpeg\r\n",
      "NORMAL2-IM-0425-0001.jpeg\tNORMAL2-IM-1335-0001.jpeg\r\n",
      "NORMAL2-IM-0427-0001.jpeg\tNORMAL2-IM-1336-0001.jpeg\r\n",
      "NORMAL2-IM-0428-0001.jpeg\tNORMAL2-IM-1337-0001.jpeg\r\n",
      "NORMAL2-IM-0429-0001.jpeg\tNORMAL2-IM-1338-0001.jpeg\r\n",
      "NORMAL2-IM-0433-0001.jpeg\tNORMAL2-IM-1341-0001.jpeg\r\n",
      "NORMAL2-IM-0435-0001.jpeg\tNORMAL2-IM-1342-0001.jpeg\r\n",
      "NORMAL2-IM-0437-0001.jpeg\tNORMAL2-IM-1343-0001.jpeg\r\n",
      "NORMAL2-IM-0439-0001.jpeg\tNORMAL2-IM-1344-0001.jpeg\r\n",
      "NORMAL2-IM-0440-0001.jpeg\tNORMAL2-IM-1345-0001-0001.jpeg\r\n",
      "NORMAL2-IM-0441-0001.jpeg\tNORMAL2-IM-1345-0001-0002.jpeg\r\n",
      "NORMAL2-IM-0443-0001.jpeg\tNORMAL2-IM-1345-0001.jpeg\r\n",
      "NORMAL2-IM-0445-0001.jpeg\tNORMAL2-IM-1346-0001.jpeg\r\n",
      "NORMAL2-IM-0447-0001.jpeg\tNORMAL2-IM-1347-0001.jpeg\r\n",
      "NORMAL2-IM-0448-0001.jpeg\tNORMAL2-IM-1348-0001.jpeg\r\n",
      "NORMAL2-IM-0449-0001.jpeg\tNORMAL2-IM-1349-0001.jpeg\r\n",
      "NORMAL2-IM-0450-0001.jpeg\tNORMAL2-IM-1350-0001.jpeg\r\n",
      "NORMAL2-IM-0451-0001.jpeg\tNORMAL2-IM-1351-0001.jpeg\r\n",
      "NORMAL2-IM-0452-0001.jpeg\tNORMAL2-IM-1356-0001.jpeg\r\n",
      "NORMAL2-IM-0453-0001.jpeg\tNORMAL2-IM-1357-0001.jpeg\r\n",
      "NORMAL2-IM-0454-0001.jpeg\tNORMAL2-IM-1360-0001.jpeg\r\n",
      "NORMAL2-IM-0455-0001.jpeg\tNORMAL2-IM-1362-0001.jpeg\r\n",
      "NORMAL2-IM-0456-0001.jpeg\tNORMAL2-IM-1365-0001.jpeg\r\n",
      "NORMAL2-IM-0458-0001.jpeg\tNORMAL2-IM-1371-0001.jpeg\r\n",
      "NORMAL2-IM-0460-0001.jpeg\tNORMAL2-IM-1376-0001.jpeg\r\n",
      "NORMAL2-IM-0462-0001.jpeg\tNORMAL2-IM-1379-0001.jpeg\r\n",
      "NORMAL2-IM-0463-0001.jpeg\tNORMAL2-IM-1385-0001.jpeg\r\n",
      "NORMAL2-IM-0464-0001.jpeg\tNORMAL2-IM-1396-0001.jpeg\r\n",
      "NORMAL2-IM-0465-0001.jpeg\tNORMAL2-IM-1400-0001.jpeg\r\n",
      "NORMAL2-IM-0466-0001.jpeg\tNORMAL2-IM-1401-0001.jpeg\r\n",
      "NORMAL2-IM-0468-0001.jpeg\tNORMAL2-IM-1406-0001.jpeg\r\n",
      "NORMAL2-IM-0472-0001.jpeg\tNORMAL2-IM-1412-0001.jpeg\r\n",
      "NORMAL2-IM-0473-0001.jpeg\tNORMAL2-IM-1419-0001.jpeg\r\n",
      "NORMAL2-IM-0474-0001.jpeg\tNORMAL2-IM-1422-0001.jpeg\r\n",
      "NORMAL2-IM-0475-0001.jpeg\tNORMAL2-IM-1423-0001.jpeg\r\n",
      "NORMAL2-IM-0476-0001.jpeg\r\n"
     ]
    }
   ],
   "source": [
    "!ls '{PATH}train/NORMAL'"
   ]
  },
  {
   "cell_type": "code",
   "execution_count": 7,
   "metadata": {},
   "outputs": [
    {
     "data": {
      "text/plain": [
       "<matplotlib.image.AxesImage at 0x7f37e4a3ee48>"
      ]
     },
     "execution_count": 7,
     "metadata": {},
     "output_type": "execute_result"
    },
    {
     "data": {
      "image/png": "[encoded data removed]",
      "text/plain": [
       "<Figure size 432x288 with 1 Axes>"
      ]
     },
     "metadata": {},
     "output_type": "display_data"
    }
   ],
   "source": [
    "img = plt.imread(f'{PATH}train/NORMAL/IM-0115-0001.jpeg') \n",
    "plt.imshow(img)"
   ]
  },
  {
   "cell_type": "code",
   "execution_count": 8,
   "metadata": {},
   "outputs": [
    {
     "data": {
      "text/plain": [
       "(1858, 2090)"
      ]
     },
     "execution_count": 8,
     "metadata": {},
     "output_type": "execute_result"
    }
   ],
   "source": [
    "img.shape"
   ]
  },
  {
   "cell_type": "markdown",
   "metadata": {},
   "source": [
    "## Model creation"
   ]
  },
  {
   "cell_type": "code",
   "execution_count": 17,
   "metadata": {},
   "outputs": [],
   "source": [
    "# Define the image size and architecture we want to use\n",
    "sz = 256\n",
    "arch = resnet50"
   ]
  },
  {
   "cell_type": "markdown",
   "metadata": {},
   "source": [
    "We will use the test folder for validation here, rather than the val folder, as the number of images in the val folder is too low."
   ]
  },
  {
   "cell_type": "code",
   "execution_count": 18,
   "metadata": {},
   "outputs": [],
   "source": [
    "def get_data(sz,bs=64):\n",
    "    '''\n",
    "    Function to get data of specified image size and in the prescribed batch size\n",
    "    sz : int, size of image to be used (transformations to default image size will be applied)\n",
    "    bs : int, batch size\n",
    "    '''\n",
    "    tfms = tfms_from_model(arch, sz=sz, aug_tfms=transforms_side_on, max_zoom=1.05)\n",
    "    return ImageClassifierData.from_paths(PATH, bs=bs, tfms = tfms, val_name='test')"
   ]
  },
  {
   "cell_type": "code",
   "execution_count": 19,
   "metadata": {},
   "outputs": [],
   "source": [
    "data = get_data(sz)"
   ]
  },
  {
   "cell_type": "code",
   "execution_count": 20,
   "metadata": {},
   "outputs": [
    {
     "name": "stderr",
     "output_type": "stream",
     "text": [
      "Downloading: \"https://download.pytorch.org/models/resnet50-19c8e357.pth\" to /home/paperspace/.torch/models/resnet50-19c8e357.pth\n",
      "100%|██████████| 102502400/102502400 [00:03<00:00, 28560137.17it/s]\n"
     ]
    },
    {
     "name": "stdout",
     "output_type": "stream",
     "text": [
      "100%|██████████| 82/82 [00:37<00:00,  2.18it/s]\n",
      "100%|██████████| 10/10 [00:07<00:00,  1.39it/s]\n"
     ]
    }
   ],
   "source": [
    "# Define the model\n",
    "learn = ConvLearner.pretrained(arch, data, precompute=True)"
   ]
  },
  {
   "cell_type": "code",
   "execution_count": 21,
   "metadata": {},
   "outputs": [
    {
     "data": {
      "application/vnd.jupyter.widget-view+json": {
       "model_id": "1c11da22364c40b4818f11116a1fcb3c",
       "version_major": 2,
       "version_minor": 0
      },
      "text/plain": [
       "HBox(children=(IntProgress(value=0, description='Epoch', max=1), HTML(value='')))"
      ]
     },
     "metadata": {},
     "output_type": "display_data"
    },
    {
     "name": "stdout",
     "output_type": "stream",
     "text": [
      " 63%|██████▎   | 52/82 [00:01<00:00, 41.58it/s, loss=0.576]\n",
      "                                                           \r"
     ]
    }
   ],
   "source": [
    "# Find the learning rate\n",
    "lr = learn.lr_find()"
   ]
  },
  {
   "cell_type": "code",
   "execution_count": 22,
   "metadata": {},
   "outputs": [
    {
     "data": {
      "image/png": "[encoded data removed]",
      "text/plain": [
       "<Figure size 432x288 with 1 Axes>"
      ]
     },
     "metadata": {},
     "output_type": "display_data"
    }
   ],
   "source": [
    "learn.sched.plot_lr()"
   ]
  },
  {
   "cell_type": "code",
   "execution_count": 23,
   "metadata": {},
   "outputs": [
    {
     "data": {
      "image/png": "[encoded data removed]",
      "text/plain": [
       "<Figure size 432x288 with 1 Axes>"
      ]
     },
     "metadata": {},
     "output_type": "display_data"
    }
   ],
   "source": [
    "learn.sched.plot()"
   ]
  },
  {
   "cell_type": "code",
   "execution_count": 24,
   "metadata": {},
   "outputs": [
    {
     "data": {
      "application/vnd.jupyter.widget-view+json": {
       "model_id": "1f075802f9ed48ada2b941d9f7150bdc",
       "version_major": 2,
       "version_minor": 0
      },
      "text/plain": [
       "HBox(children=(IntProgress(value=0, description='Epoch', max=2), HTML(value='')))"
      ]
     },
     "metadata": {},
     "output_type": "display_data"
    },
    {
     "name": "stdout",
     "output_type": "stream",
     "text": [
      "epoch      trn_loss   val_loss   accuracy                  \n",
      "    0      0.193781   0.970007   0.794872  \n",
      "    1      0.143954   1.04921    0.786859                  \n",
      "\n",
      "CPU times: user 2.33 s, sys: 1.96 s, total: 4.28 s\n",
      "Wall time: 2.93 s\n"
     ]
    },
    {
     "data": {
      "text/plain": [
       "[array([1.04921]), 0.7868589743589743]"
      ]
     },
     "execution_count": 24,
     "metadata": {},
     "output_type": "execute_result"
    }
   ],
   "source": [
    "# Fitting the model\n",
    "%time learn.fit(5e-2,2)"
   ]
  },
  {
   "cell_type": "markdown",
   "metadata": {},
   "source": [
    "Let's use data augmentation now."
   ]
  },
  {
   "cell_type": "code",
   "execution_count": 25,
   "metadata": {},
   "outputs": [],
   "source": [
    "learn.precompute = False"
   ]
  },
  {
   "cell_type": "markdown",
   "metadata": {},
   "source": [
    "Changing the image size being fed to the network as the smaller images are tending to overfit already."
   ]
  },
  {
   "cell_type": "code",
   "execution_count": 26,
   "metadata": {},
   "outputs": [],
   "source": [
    "learn.set_data(get_data(360))"
   ]
  },
  {
   "cell_type": "code",
   "execution_count": 27,
   "metadata": {},
   "outputs": [
    {
     "data": {
      "application/vnd.jupyter.widget-view+json": {
       "model_id": "b030b0564ab2419d9204c3a939e27550",
       "version_major": 2,
       "version_minor": 0
      },
      "text/plain": [
       "HBox(children=(IntProgress(value=0, description='Epoch', max=2), HTML(value='')))"
      ]
     },
     "metadata": {},
     "output_type": "display_data"
    },
    {
     "name": "stdout",
     "output_type": "stream",
     "text": [
      "epoch      trn_loss   val_loss   accuracy                  \n",
      "    0      0.173702   0.753229   0.81891   \n",
      "    1      0.144799   0.626931   0.842949                  \n",
      "\n",
      "CPU times: user 10min 3s, sys: 2min 5s, total: 12min 9s\n",
      "Wall time: 3min 1s\n"
     ]
    },
    {
     "data": {
      "text/plain": [
       "[array([0.62693]), 0.8429487164203937]"
      ]
     },
     "execution_count": 27,
     "metadata": {},
     "output_type": "execute_result"
    }
   ],
   "source": [
    "%time learn.fit(1e-1, 2, cycle_len=1)"
   ]
  },
  {
   "cell_type": "markdown",
   "metadata": {},
   "source": [
    "Let's save this model."
   ]
  },
  {
   "cell_type": "code",
   "execution_count": 29,
   "metadata": {},
   "outputs": [],
   "source": [
    "learn.save('360-resnet50-Pnemonia-LastLayer')"
   ]
  },
  {
   "cell_type": "code",
   "execution_count": 35,
   "metadata": {},
   "outputs": [],
   "source": [
    "learn.load('360-resnet50-Pnemonia-LastLayer')"
   ]
  },
  {
   "cell_type": "markdown",
   "metadata": {},
   "source": [
    "Unfreezing the layers of the model and setting a differential learning rate."
   ]
  },
  {
   "cell_type": "code",
   "execution_count": 36,
   "metadata": {},
   "outputs": [],
   "source": [
    "learn.unfreeze()"
   ]
  },
  {
   "cell_type": "code",
   "execution_count": 37,
   "metadata": {},
   "outputs": [],
   "source": [
    "lr = 7e-2"
   ]
  },
  {
   "cell_type": "code",
   "execution_count": 38,
   "metadata": {},
   "outputs": [
    {
     "data": {
      "application/vnd.jupyter.widget-view+json": {
       "model_id": "e8a660904e1648f78c5b7a88fecef78e",
       "version_major": 2,
       "version_minor": 0
      },
      "text/plain": [
       "HBox(children=(IntProgress(value=0, description='Epoch', max=3), HTML(value='')))"
      ]
     },
     "metadata": {},
     "output_type": "display_data"
    },
    {
     "name": "stdout",
     "output_type": "stream",
     "text": [
      "epoch      trn_loss   val_loss   accuracy                  \n",
      "    0      0.184331   0.644056   0.81891   \n",
      "    1      0.126245   0.679618   0.873397                  \n",
      "    2      0.07445    0.568433   0.86859                    \n",
      "CPU times: user 18min 31s, sys: 3min 11s, total: 21min 43s\n",
      "Wall time: 7min 15s\n"
     ]
    },
    {
     "data": {
      "text/plain": [
       "[array([0.56843]), 0.8685897451180679]"
      ]
     },
     "execution_count": 38,
     "metadata": {},
     "output_type": "execute_result"
    }
   ],
   "source": [
    "%time learn.fit([lr/9,lr/3,lr], 2, cycle_len=1, cycle_mult=2)"
   ]
  },
  {
   "cell_type": "markdown",
   "metadata": {},
   "source": [
    "The model seems to be on the verge of overfitting, so let's save it for now and then run another round on a larger set of images."
   ]
  },
  {
   "cell_type": "code",
   "execution_count": 39,
   "metadata": {},
   "outputs": [],
   "source": [
    "learn.save('360-resnet50-Pnemonia-AllLayer')"
   ]
  },
  {
   "cell_type": "code",
   "execution_count": 40,
   "metadata": {},
   "outputs": [],
   "source": [
    "learn.set_data(get_data(500))"
   ]
  },
  {
   "cell_type": "code",
   "execution_count": 41,
   "metadata": {},
   "outputs": [
    {
     "data": {
      "application/vnd.jupyter.widget-view+json": {
       "model_id": "0a0bb1b14072436a9b3c91606ec4b950",
       "version_major": 2,
       "version_minor": 0
      },
      "text/plain": [
       "HBox(children=(IntProgress(value=0, description='Epoch', max=1), HTML(value='')))"
      ]
     },
     "metadata": {},
     "output_type": "display_data"
    },
    {
     "name": "stdout",
     "output_type": "stream",
     "text": [
      " 96%|█████████▋| 79/82 [02:10<00:04,  1.65s/it, loss=0.156] "
     ]
    }
   ],
   "source": [
    "lr = learn.lr_find()"
   ]
  },
  {
   "cell_type": "code",
   "execution_count": 42,
   "metadata": {
    "scrolled": true
   },
   "outputs": [
    {
     "data": {
      "image/png": "[encoded data removed]",
      "text/plain": [
       "<Figure size 432x288 with 1 Axes>"
      ]
     },
     "metadata": {},
     "output_type": "display_data"
    }
   ],
   "source": [
    "learn.sched.plot()"
   ]
  },
  {
   "cell_type": "code",
   "execution_count": 43,
   "metadata": {},
   "outputs": [],
   "source": [
    "lr = 1e-1"
   ]
  },
  {
   "cell_type": "code",
   "execution_count": 44,
   "metadata": {},
   "outputs": [
    {
     "data": {
      "application/vnd.jupyter.widget-view+json": {
       "model_id": "941e34f0c8f9418095ce424160f8f9a9",
       "version_major": 2,
       "version_minor": 0
      },
      "text/plain": [
       "HBox(children=(IntProgress(value=0, description='Epoch', max=3), HTML(value='')))"
      ]
     },
     "metadata": {},
     "output_type": "display_data"
    },
    {
     "name": "stdout",
     "output_type": "stream",
     "text": [
      "epoch      trn_loss   val_loss   accuracy                   \n",
      "    0      0.077036   0.614642   0.865385  \n",
      "    1      0.08707    0.472836   0.887821                   \n",
      "    2      0.07013    0.549359   0.878205                   \n",
      "CPU times: user 21min 27s, sys: 4min 48s, total: 26min 16s\n",
      "Wall time: 7min 45s\n"
     ]
    },
    {
     "data": {
      "text/plain": [
       "[array([0.54936]), 0.8782051297334524]"
      ]
     },
     "execution_count": 44,
     "metadata": {},
     "output_type": "execute_result"
    }
   ],
   "source": [
    "%time learn.fit([lr/9,lr/3,lr], 2, cycle_len=1, cycle_mult=2)"
   ]
  },
  {
   "cell_type": "code",
   "execution_count": 45,
   "metadata": {},
   "outputs": [],
   "source": [
    "learn.save('360-resnet50-Pnemonia-AllLayer2')"
   ]
  },
  {
   "cell_type": "code",
   "execution_count": 59,
   "metadata": {},
   "outputs": [],
   "source": [
    "learn.load('360-resnet50-Pnemonia-AllLayer2')"
   ]
  },
  {
   "cell_type": "markdown",
   "metadata": {},
   "source": [
    "Time for some Test-time augmentation and predictions."
   ]
  },
  {
   "cell_type": "code",
   "execution_count": 60,
   "metadata": {},
   "outputs": [
    {
     "name": "stdout",
     "output_type": "stream",
     "text": [
      "                                             \r"
     ]
    }
   ],
   "source": [
    "log_preds, y = learn.TTA()"
   ]
  },
  {
   "cell_type": "code",
   "execution_count": 61,
   "metadata": {},
   "outputs": [],
   "source": [
    "probs = np.mean(np.exp(log_preds),0)"
   ]
  },
  {
   "cell_type": "code",
   "execution_count": 62,
   "metadata": {},
   "outputs": [
    {
     "data": {
      "text/plain": [
       "0.8477564102564102"
      ]
     },
     "execution_count": 62,
     "metadata": {},
     "output_type": "execute_result"
    }
   ],
   "source": [
    "accuracy_np(probs, y)"
   ]
  },
  {
   "cell_type": "markdown",
   "metadata": {},
   "source": [
    "## Confusion Matrix"
   ]
  },
  {
   "cell_type": "code",
   "execution_count": 65,
   "metadata": {},
   "outputs": [],
   "source": [
    "preds = np.argmax(probs, axis = 1)"
   ]
  },
  {
   "cell_type": "code",
   "execution_count": 69,
   "metadata": {},
   "outputs": [],
   "source": [
    "from sklearn.metrics import confusion_matrix, recall_score, precision_score, auc"
   ]
  },
  {
   "cell_type": "code",
   "execution_count": 70,
   "metadata": {},
   "outputs": [],
   "source": [
    "cm = confusion_matrix(y, preds)"
   ]
  },
  {
   "cell_type": "code",
   "execution_count": 71,
   "metadata": {},
   "outputs": [
    {
     "data": {
      "text/plain": [
       "['NORMAL', 'PNEUMONIA']"
      ]
     },
     "execution_count": 71,
     "metadata": {},
     "output_type": "execute_result"
    }
   ],
   "source": [
    "data.classes"
   ]
  },
  {
   "cell_type": "code",
   "execution_count": 72,
   "metadata": {},
   "outputs": [
    {
     "name": "stdout",
     "output_type": "stream",
     "text": [
      "[[140  94]\n",
      " [  1 389]]\n"
     ]
    },
    {
     "data": {
      "image/png": "[encoded data removed]",
      "text/plain": [
       "<Figure size 432x288 with 2 Axes>"
      ]
     },
     "metadata": {},
     "output_type": "display_data"
    }
   ],
   "source": [
    "plot_confusion_matrix(cm, data.classes)"
   ]
  },
  {
   "cell_type": "code",
   "execution_count": 80,
   "metadata": {
    "scrolled": true
   },
   "outputs": [
    {
     "name": "stdout",
     "output_type": "stream",
     "text": [
      "Recall: 99.74358974358975 %\n",
      "Precision: 80.53830227743272 %\n"
     ]
    }
   ],
   "source": [
    "recall = recall_score(y, preds)\n",
    "print(f'Recall: {recall*100} %')\n",
    "precision = precision_score(y, preds)\n",
    "print(f'Precision: {precision*100} %')"
   ]
  },
  {
   "cell_type": "markdown",
   "metadata": {},
   "source": [
    "And we want a model with a high Recall value in such medical cases, as it means that the algorithm has a high value for correctly identifying Pnemonia. But the Precision is not too great here and can be improved."
   ]
  }
 ],
 "metadata": {
  "kernelspec": {
   "display_name": "Python 3",
   "language": "python",
   "name": "python3"
  },
  "language_info": {
   "codemirror_mode": {
    "name": "ipython",
    "version": 3
   },
   "file_extension": ".py",
   "mimetype": "text/x-python",
   "name": "python",
   "nbconvert_exporter": "python",
   "pygments_lexer": "ipython3",
   "version": "3.6.4"
  }
 },
 "nbformat": 4,
 "nbformat_minor": 2
}
